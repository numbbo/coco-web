{
  "cells": [
    {
      "cell_type": "markdown",
      "metadata": {},
      "source": [
        "---\n",
        "title: Algorithm data sets for the `bbob-noisy` test suite\n",
        "---\n",
        "\n",
        "\n",
        "In the table below, you will find all official algorithm data sets on the `bbob-noisy` test suite, \n",
        "together with their year of publication, the authors, and related PDFs for each data set. Links to the \n",
        "source code to run the corresponding experiments/algorithms are provided whenever available.\n",
        "\n",
        "To sort the table, simply click on the table header of the corresponding column.\n",
        "\n",
        "Note that a manual download of the data is not necessary if you use the\n",
        "[displaying results module (cocopp)](../getting-started/index.qmd#displaying-coco-results-postprocess-getting-started) \n",
        "of COCO.\n"
      ],
      "id": "1b56710a"
    },
    {
      "cell_type": "code",
      "metadata": {},
      "source": [
        "#| echo: false\n",
        "#| output: asis\n",
        "\n",
        "from dsh import display_suite_table\n",
        "\n",
        "display_suite_table(\"bbob-noisy\")"
      ],
      "id": "2cb619fe",
      "execution_count": null,
      "outputs": []
    },
    {
      "cell_type": "markdown",
      "metadata": {},
      "source": [
        "<script type=\"text/javascript\" src=\"/assets/js/sort-table.js\"></script>\n",
        "<link rel=\"stylesheet\" href=\"/assets/css/data-table.css\"/>"
      ],
      "id": "39f73948"
    }
  ],
  "metadata": {
    "kernelspec": {
      "name": "python3",
      "language": "python",
      "display_name": "Python 3 (ipykernel)",
      "path": "/usr/share/jupyter/kernels/python3"
    }
  },
  "nbformat": 4,
  "nbformat_minor": 5
}